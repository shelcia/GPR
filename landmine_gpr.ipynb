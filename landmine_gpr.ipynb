{
  "nbformat": 4,
  "nbformat_minor": 0,
  "metadata": {
    "accelerator": "GPU",
    "colab": {
      "name": "landmine_gpr.ipynb",
      "provenance": [],
      "toc_visible": true,
      "include_colab_link": true
    },
    "kernelspec": {
      "display_name": "Python 3",
      "name": "python3"
    }
  },
  "cells": [
    {
      "cell_type": "markdown",
      "metadata": {
        "id": "view-in-github",
        "colab_type": "text"
      },
      "source": [
        "<a href=\"https://colab.research.google.com/github/shelcia/GPR/blob/main/landmine_gpr.ipynb\" target=\"_parent\"><img src=\"https://colab.research.google.com/assets/colab-badge.svg\" alt=\"Open In Colab\"/></a>"
      ]
    },
    {
      "cell_type": "code",
      "metadata": {
        "colab": {
          "base_uri": "https://localhost:8080/"
        },
        "id": "oStMq-kRVXwx",
        "outputId": "92f62af0-5222-45c4-b871-f5f4833a81e1"
      },
      "source": [
        "from google.colab import drive\n",
        "drive.mount('/content/drive')"
      ],
      "execution_count": null,
      "outputs": [
        {
          "output_type": "stream",
          "text": [
            "Mounted at /content/drive\n"
          ],
          "name": "stdout"
        }
      ]
    },
    {
      "cell_type": "code",
      "metadata": {
        "colab": {
          "base_uri": "https://localhost:8080/"
        },
        "id": "FqCyZ_nI79SV",
        "outputId": "4b71df1f-c1f3-47f6-acb6-ac59af6ec96c"
      },
      "source": [
        "!git clone https://github.com/polimi-ispl/landmine_detection_autoencoder.git"
      ],
      "execution_count": null,
      "outputs": [
        {
          "output_type": "stream",
          "text": [
            "Cloning into 'landmine_detection_autoencoder'...\n",
            "remote: Enumerating objects: 37, done.\u001b[K\n",
            "remote: Total 37 (delta 0), reused 0 (delta 0), pack-reused 37\u001b[K\n",
            "Unpacking objects: 100% (37/37), done.\n"
          ],
          "name": "stdout"
        }
      ]
    },
    {
      "cell_type": "code",
      "metadata": {
        "id": "m63P_1suzDnw"
      },
      "source": [
        "!cp /content/drive/MyDrive/20170621_deg0_HHVV.npy /content/data/"
      ],
      "execution_count": null,
      "outputs": []
    },
    {
      "cell_type": "code",
      "metadata": {
        "colab": {
          "base_uri": "https://localhost:8080/"
        },
        "id": "Xml2H8Pn0Ejz",
        "outputId": "6239e709-7beb-4a0b-d880-4131d2539cc1"
      },
      "source": [
        "%tensorflow_version 1.x"
      ],
      "execution_count": null,
      "outputs": [
        {
          "output_type": "stream",
          "text": [
            "TensorFlow 1.x selected.\n"
          ],
          "name": "stdout"
        }
      ]
    },
    {
      "cell_type": "code",
      "metadata": {
        "colab": {
          "base_uri": "https://localhost:8080/"
        },
        "id": "duhhwW6Lhejb",
        "outputId": "2311f4d6-848e-445e-b417-cc3d29a4afbb"
      },
      "source": [
        "!pip install GPUtil"
      ],
      "execution_count": null,
      "outputs": [
        {
          "output_type": "stream",
          "text": [
            "Collecting GPUtil\n",
            "  Downloading https://files.pythonhosted.org/packages/ed/0e/5c61eedde9f6c87713e89d794f01e378cfd9565847d4576fa627d758c554/GPUtil-1.4.0.tar.gz\n",
            "Building wheels for collected packages: GPUtil\n",
            "  Building wheel for GPUtil (setup.py) ... \u001b[?25l\u001b[?25hdone\n",
            "  Created wheel for GPUtil: filename=GPUtil-1.4.0-cp37-none-any.whl size=7411 sha256=1c65c60acef9d1127d195a91ea4154088eca0b5a4e4ce63454d74a04e62edb45\n",
            "  Stored in directory: /root/.cache/pip/wheels/3d/77/07/80562de4bb0786e5ea186911a2c831fdd0018bda69beab71fd\n",
            "Successfully built GPUtil\n",
            "Installing collected packages: GPUtil\n",
            "Successfully installed GPUtil-1.4.0\n"
          ],
          "name": "stdout"
        }
      ]
    },
    {
      "cell_type": "code",
      "metadata": {
        "colab": {
          "base_uri": "https://localhost:8080/"
        },
        "id": "cL3Mb-_s01Lp",
        "outputId": "d5554a81-e78f-4df4-d5f3-85fe2a4ca941"
      },
      "source": [
        "!git clone https://github.com/polimi-ispl/python_patch_extractor"
      ],
      "execution_count": null,
      "outputs": [
        {
          "output_type": "stream",
          "text": [
            "Cloning into 'python_patch_extractor'...\n",
            "remote: Enumerating objects: 105, done.\u001b[K\n",
            "remote: Counting objects:   2% (1/44)\u001b[K\rremote: Counting objects:   4% (2/44)\u001b[K\rremote: Counting objects:   6% (3/44)\u001b[K\rremote: Counting objects:   9% (4/44)\u001b[K\rremote: Counting objects:  11% (5/44)\u001b[K\rremote: Counting objects:  13% (6/44)\u001b[K\rremote: Counting objects:  15% (7/44)\u001b[K\rremote: Counting objects:  18% (8/44)\u001b[K\rremote: Counting objects:  20% (9/44)\u001b[K\rremote: Counting objects:  22% (10/44)\u001b[K\rremote: Counting objects:  25% (11/44)\u001b[K\rremote: Counting objects:  27% (12/44)\u001b[K\rremote: Counting objects:  29% (13/44)\u001b[K\rremote: Counting objects:  31% (14/44)\u001b[K\rremote: Counting objects:  34% (15/44)\u001b[K\rremote: Counting objects:  36% (16/44)\u001b[K\rremote: Counting objects:  38% (17/44)\u001b[K\rremote: Counting objects:  40% (18/44)\u001b[K\rremote: Counting objects:  43% (19/44)\u001b[K\rremote: Counting objects:  45% (20/44)\u001b[K\rremote: Counting objects:  47% (21/44)\u001b[K\rremote: Counting objects:  50% (22/44)\u001b[K\rremote: Counting objects:  52% (23/44)\u001b[K\rremote: Counting objects:  54% (24/44)\u001b[K\rremote: Counting objects:  56% (25/44)\u001b[K\rremote: Counting objects:  59% (26/44)\u001b[K\rremote: Counting objects:  61% (27/44)\u001b[K\rremote: Counting objects:  63% (28/44)\u001b[K\rremote: Counting objects:  65% (29/44)\u001b[K\rremote: Counting objects:  68% (30/44)\u001b[K\rremote: Counting objects:  70% (31/44)\u001b[K\rremote: Counting objects:  72% (32/44)\u001b[K\rremote: Counting objects:  75% (33/44)\u001b[K\rremote: Counting objects:  77% (34/44)\u001b[K\rremote: Counting objects:  79% (35/44)\u001b[K\rremote: Counting objects:  81% (36/44)\u001b[K\rremote: Counting objects:  84% (37/44)\u001b[K\rremote: Counting objects:  86% (38/44)\u001b[K\rremote: Counting objects:  88% (39/44)\u001b[K\rremote: Counting objects:  90% (40/44)\u001b[K\rremote: Counting objects:  93% (41/44)\u001b[K\rremote: Counting objects:  95% (42/44)\u001b[K\rremote: Counting objects:  97% (43/44)\u001b[K\rremote: Counting objects: 100% (44/44)\u001b[K\rremote: Counting objects: 100% (44/44), done.\u001b[K\n",
            "remote: Compressing objects:   2% (1/37)\u001b[K\rremote: Compressing objects:   5% (2/37)\u001b[K\rremote: Compressing objects:   8% (3/37)\u001b[K\rremote: Compressing objects:  10% (4/37)\u001b[K\rremote: Compressing objects:  13% (5/37)\u001b[K\rremote: Compressing objects:  16% (6/37)\u001b[K\rremote: Compressing objects:  18% (7/37)\u001b[K\rremote: Compressing objects:  21% (8/37)\u001b[K\rremote: Compressing objects:  24% (9/37)\u001b[K\rremote: Compressing objects:  27% (10/37)\u001b[K\rremote: Compressing objects:  29% (11/37)\u001b[K\rremote: Compressing objects:  32% (12/37)\u001b[K\rremote: Compressing objects:  35% (13/37)\u001b[K\rremote: Compressing objects:  37% (14/37)\u001b[K\rremote: Compressing objects:  40% (15/37)\u001b[K\rremote: Compressing objects:  43% (16/37)\u001b[K\rremote: Compressing objects:  45% (17/37)\u001b[K\rremote: Compressing objects:  48% (18/37)\u001b[K\rremote: Compressing objects:  51% (19/37)\u001b[K\rremote: Compressing objects:  54% (20/37)\u001b[K\rremote: Compressing objects:  56% (21/37)\u001b[K\rremote: Compressing objects:  59% (22/37)\u001b[K\rremote: Compressing objects:  62% (23/37)\u001b[K\rremote: Compressing objects:  64% (24/37)\u001b[K\rremote: Compressing objects:  67% (25/37)\u001b[K\rremote: Compressing objects:  70% (26/37)\u001b[K\rremote: Compressing objects:  72% (27/37)\u001b[K\rremote: Compressing objects:  75% (28/37)\u001b[K\rremote: Compressing objects:  78% (29/37)\u001b[K\rremote: Compressing objects:  81% (30/37)\u001b[K\rremote: Compressing objects:  83% (31/37)\u001b[K\rremote: Compressing objects:  86% (32/37)\u001b[K\rremote: Compressing objects:  89% (33/37)\u001b[K\rremote: Compressing objects:  91% (34/37)\u001b[K\rremote: Compressing objects:  94% (35/37)\u001b[K\rremote: Compressing objects:  97% (36/37)\u001b[K\rremote: Compressing objects: 100% (37/37)\u001b[K\rremote: Compressing objects: 100% (37/37), done.\u001b[K\n",
            "Receiving objects:   0% (1/105)   \rReceiving objects:   1% (2/105)   \rReceiving objects:   2% (3/105)   \rReceiving objects:   3% (4/105)   \rReceiving objects:   4% (5/105)   \rReceiving objects:   5% (6/105)   \rReceiving objects:   6% (7/105)   \rReceiving objects:   7% (8/105)   \rReceiving objects:   8% (9/105)   \rReceiving objects:   9% (10/105)   \rReceiving objects:  10% (11/105)   \rReceiving objects:  11% (12/105)   \rReceiving objects:  12% (13/105)   \rReceiving objects:  13% (14/105)   \rReceiving objects:  14% (15/105)   \rReceiving objects:  15% (16/105)   \rReceiving objects:  16% (17/105)   \rReceiving objects:  17% (18/105)   \rReceiving objects:  18% (19/105)   \rReceiving objects:  19% (20/105)   \rReceiving objects:  20% (21/105)   \rReceiving objects:  21% (23/105)   \rReceiving objects:  22% (24/105)   \rReceiving objects:  23% (25/105)   \rReceiving objects:  24% (26/105)   \rReceiving objects:  25% (27/105)   \rReceiving objects:  26% (28/105)   \rReceiving objects:  27% (29/105)   \rReceiving objects:  28% (30/105)   \rReceiving objects:  29% (31/105)   \rReceiving objects:  30% (32/105)   \rReceiving objects:  31% (33/105)   \rReceiving objects:  32% (34/105)   \rremote: Total 105 (delta 23), reused 21 (delta 7), pack-reused 61\u001b[K\n",
            "Receiving objects:  33% (35/105)   \rReceiving objects:  34% (36/105)   \rReceiving objects:  35% (37/105)   \rReceiving objects:  36% (38/105)   \rReceiving objects:  37% (39/105)   \rReceiving objects:  38% (40/105)   \rReceiving objects:  39% (41/105)   \rReceiving objects:  40% (42/105)   \rReceiving objects:  41% (44/105)   \rReceiving objects:  42% (45/105)   \rReceiving objects:  43% (46/105)   \rReceiving objects:  44% (47/105)   \rReceiving objects:  45% (48/105)   \rReceiving objects:  46% (49/105)   \rReceiving objects:  47% (50/105)   \rReceiving objects:  48% (51/105)   \rReceiving objects:  49% (52/105)   \rReceiving objects:  50% (53/105)   \rReceiving objects:  51% (54/105)   \rReceiving objects:  52% (55/105)   \rReceiving objects:  53% (56/105)   \rReceiving objects:  54% (57/105)   \rReceiving objects:  55% (58/105)   \rReceiving objects:  56% (59/105)   \rReceiving objects:  57% (60/105)   \rReceiving objects:  58% (61/105)   \rReceiving objects:  59% (62/105)   \rReceiving objects:  60% (63/105)   \rReceiving objects:  61% (65/105)   \rReceiving objects:  62% (66/105)   \rReceiving objects:  63% (67/105)   \rReceiving objects:  64% (68/105)   \rReceiving objects:  65% (69/105)   \rReceiving objects:  66% (70/105)   \rReceiving objects:  67% (71/105)   \rReceiving objects:  68% (72/105)   \rReceiving objects:  69% (73/105)   \rReceiving objects:  70% (74/105)   \rReceiving objects:  71% (75/105)   \rReceiving objects:  72% (76/105)   \rReceiving objects:  73% (77/105)   \rReceiving objects:  74% (78/105)   \rReceiving objects:  75% (79/105)   \rReceiving objects:  76% (80/105)   \rReceiving objects:  77% (81/105)   \rReceiving objects:  78% (82/105)   \rReceiving objects:  79% (83/105)   \rReceiving objects:  80% (84/105)   \rReceiving objects:  81% (86/105)   \rReceiving objects:  82% (87/105)   \rReceiving objects:  83% (88/105)   \rReceiving objects:  84% (89/105)   \rReceiving objects:  85% (90/105)   \rReceiving objects:  86% (91/105)   \rReceiving objects:  87% (92/105)   \rReceiving objects:  88% (93/105)   \rReceiving objects:  89% (94/105)   \rReceiving objects:  90% (95/105)   \rReceiving objects:  91% (96/105)   \rReceiving objects:  92% (97/105)   \rReceiving objects:  93% (98/105)   \rReceiving objects:  94% (99/105)   \rReceiving objects:  95% (100/105)   \rReceiving objects:  96% (101/105)   \rReceiving objects:  97% (102/105)   \rReceiving objects:  98% (103/105)   \rReceiving objects:  99% (104/105)   \rReceiving objects: 100% (105/105)   \rReceiving objects: 100% (105/105), 1.57 MiB | 23.34 MiB/s, done.\n",
            "Resolving deltas:   0% (0/45)   \rResolving deltas:  11% (5/45)   \rResolving deltas:  15% (7/45)   \rResolving deltas:  40% (18/45)   \rResolving deltas:  42% (19/45)   \rResolving deltas:  46% (21/45)   \rResolving deltas:  71% (32/45)   \rResolving deltas:  75% (34/45)   \rResolving deltas:  80% (36/45)   \rResolving deltas:  86% (39/45)   \rResolving deltas:  88% (40/45)   \rResolving deltas:  95% (43/45)   \rResolving deltas: 100% (45/45)   \rResolving deltas: 100% (45/45), done.\n"
          ],
          "name": "stdout"
        }
      ]
    },
    {
      "cell_type": "code",
      "metadata": {
        "colab": {
          "base_uri": "https://localhost:8080/"
        },
        "id": "-Sm09SNndlsc",
        "outputId": "f7ef62e0-0776-4964-8323-31a110747a91"
      },
      "source": [
        "import os\n",
        "import numpy as np\n",
        "from sklearn.utils import shuffle\n",
        "from sklearn.model_selection import train_test_split\n",
        "\n",
        "from landmine_detection_autoencoder import PreProcessing\n",
        "from landmine_detection_autoencoder import net\n",
        "from python_patch_extractor import PatchExtractor\n",
        "\n",
        "from keras.callbacks import ModelCheckpoint, EarlyStopping, ReduceLROnPlateau, History"
      ],
      "execution_count": null,
      "outputs": [
        {
          "output_type": "stream",
          "text": [
            "GPU selected: 0\n",
            "WARNING:tensorflow:From /content/landmine_detection_autoencoder/net.py:21: The name tf.ConfigProto is deprecated. Please use tf.compat.v1.ConfigProto instead.\n",
            "\n",
            "WARNING:tensorflow:From /content/landmine_detection_autoencoder/net.py:23: The name tf.Session is deprecated. Please use tf.compat.v1.Session instead.\n",
            "\n",
            "WARNING:tensorflow:From /tensorflow-1.15.2/python3.7/tensorflow_core/python/ops/resource_variable_ops.py:1630: calling BaseResourceVariable.__init__ (from tensorflow.python.ops.resource_variable_ops) with constraint is deprecated and will be removed in a future version.\n",
            "Instructions for updating:\n",
            "If using Keras pass *_constraint arguments to layers.\n"
          ],
          "name": "stdout"
        },
        {
          "output_type": "stream",
          "text": [
            "Using TensorFlow backend.\n"
          ],
          "name": "stderr"
        }
      ]
    },
    {
      "cell_type": "code",
      "metadata": {
        "id": "D203U79qlCvn"
      },
      "source": [
        "in_path = 'data/20170621_deg0_HHVV.npy'\n",
        "out_path = 'OP'\n",
        "architecture = 'Auto3D2'\n",
        "ny = 3 # number of adjacent B-scans to be considered\n",
        "data_augmentation = True\n",
        "preprocessing = 'normalize'\n",
        "patch_size = 64\n",
        "patch_stride = 4\n",
        "n_bsc = 5 # number of B_scans for training"
      ],
      "execution_count": null,
      "outputs": []
    },
    {
      "cell_type": "code",
      "metadata": {
        "id": "mTW3KVwW2k3M"
      },
      "source": [
        "def parse_pp(string):\n",
        "    return getattr(PreProcessing, string)\n",
        "\n",
        "def parse_net(string):\n",
        "    return getattr(net, string)"
      ],
      "execution_count": null,
      "outputs": []
    },
    {
      "cell_type": "code",
      "metadata": {
        "id": "xBAfnty92oWq"
      },
      "source": [
        "if not os.path.exists(out_path):\n",
        "    os.makedirs(out_path)\n",
        "\n",
        "field, campaign = in_path.split('/')\n",
        "campaign, extension = campaign.split('.')"
      ],
      "execution_count": null,
      "outputs": []
    },
    {
      "cell_type": "markdown",
      "metadata": {
        "id": "ipyo-V0d21Lb"
      },
      "source": [
        "# **Loading Data**"
      ]
    },
    {
      "cell_type": "code",
      "metadata": {
        "id": "T1hL91d_3qa2"
      },
      "source": [
        "# save np.load\n",
        "np_load_old = np.load\n",
        "\n",
        "# modify the default parameters of np.load\n",
        "np.load = lambda *a,**k: np_load_old(*a, allow_pickle=True, **k)"
      ],
      "execution_count": null,
      "outputs": []
    },
    {
      "cell_type": "code",
      "metadata": {
        "id": "sgM_fAWR2soS"
      },
      "source": [
        "dataset = np.load(in_path).item()\n",
        "\n",
        "train_bsc_idx = np.where(np.asarray(dataset['ground_truth']) == 0)[0][:n_bsc]\n",
        "trainset = dataset['data'][train_bsc_idx]\n",
        "trainset = np.moveaxis(trainset, np.argmin(trainset.shape), -1)\n",
        "del dataset"
      ],
      "execution_count": null,
      "outputs": []
    },
    {
      "cell_type": "code",
      "metadata": {
        "id": "5NH8fEFI3BrQ"
      },
      "source": [
        "if patch_size is not None:\n",
        "    patch_size = (patch_size, patch_size)\n",
        "else:\n",
        "    patch_size = trainset.shape[1:]\n",
        "\n",
        "patch_size = patch_size + (ny,)\n",
        "patch_stride = (patch_stride, patch_stride, 1)\n",
        "\n",
        "pe = PatchExtractor.PatchExtractor(patch_size, stride=patch_stride)\n",
        "train_patches = pe.extract(trainset)\n",
        "# reshaping\n",
        "train_patches = train_patches.reshape((-1,) + patch_size)\n",
        "\n",
        "# preprocessing each patch\n",
        "train_patches, min_tr, max_tr = PreProcessing.apply_transform(train_patches, transform=parse_pp(preprocessing))\n",
        "\n",
        "# Data augmentation (default=True)\n",
        "if data_augmentation:\n",
        "    train_patches = np.concatenate([train_patches, np.flip(train_patches, axis=2).copy()], axis=0)\n",
        "\n",
        "train_patches = shuffle(train_patches)\n",
        "\n",
        "# create training and validation sets\n",
        "train_patches, val_patches, train_index, val_index = train_test_split(train_patches,\n",
        "                                                                      np.arange(train_patches.shape[0]),\n",
        "                                                                      test_size=0.5,\n",
        "                                                                      random_state=118\n",
        "                                                                      )"
      ],
      "execution_count": null,
      "outputs": []
    },
    {
      "cell_type": "code",
      "metadata": {
        "colab": {
          "base_uri": "https://localhost:8080/"
        },
        "id": "tLHnBLH93yGE",
        "outputId": "61d36d14-44a9-4bd2-d659-04e73a6ce824"
      },
      "source": [
        "sets = net.Settings()\n",
        "patience = sets.patience\n",
        "lr_factor = sets.lr_factor\n",
        "batch_size = sets.batch_size\n",
        "epochs = sets.epochs\n",
        "\n",
        "autoencoder, encoder = parse_net(architecture)(patch_size)\n",
        "\n",
        "out_name = field+'_'+campaign+'_'+architecture+'_patch'+str(patch_size[0])+'_stride'+str(patch_stride[0])+'_bsc'+str(n_bsc)+'_ny'+str(ny)\n",
        "\n",
        "lr_chkpt = ReduceLROnPlateau(monitor='val_loss',\n",
        "                             factor=lr_factor,\n",
        "                             patience=patience//2,\n",
        "                             verbose=0,\n",
        "                             mode='auto',\n",
        "                             epsilon=0.0001,\n",
        "                             cooldown=0,\n",
        "                             min_lr=0)\n",
        "save_chkpt = ModelCheckpoint(os.path.join(out_path, out_name+'.h5'),\n",
        "                             monitor='val_loss',\n",
        "                             verbose=1,\n",
        "                             save_best_only=True,\n",
        "                             save_weights_only=True,\n",
        "                             mode='min')\n",
        "stop_chkpt = EarlyStopping(monitor='val_loss',\n",
        "                           patience=patience)\n",
        "\n",
        "#train_acc = History()"
      ],
      "execution_count": null,
      "outputs": [
        {
          "output_type": "stream",
          "text": [
            "/tensorflow-1.15.2/python3.7/keras/callbacks/callbacks.py:998: UserWarning: `epsilon` argument is deprecated and will be removed, use `min_delta` instead.\n",
            "  warnings.warn('`epsilon` argument is deprecated and '\n"
          ],
          "name": "stderr"
        }
      ]
    },
    {
      "cell_type": "code",
      "metadata": {
        "colab": {
          "base_uri": "https://localhost:8080/"
        },
        "id": "WuQbRAlR32O8",
        "outputId": "dbf41cb4-380c-4674-cfb8-7bdecbd67584"
      },
      "source": [
        "autoencoder.summary()"
      ],
      "execution_count": null,
      "outputs": [
        {
          "output_type": "stream",
          "text": [
            "Model: \"model_1\"\n",
            "_________________________________________________________________\n",
            "Layer (type)                 Output Shape              Param #   \n",
            "=================================================================\n",
            "g_in_0 (InputLayer)          (None, 64, 64, 3)         0         \n",
            "_________________________________________________________________\n",
            "g_conv_0 (Conv2D)            (None, 64, 64, 16)        1744      \n",
            "_________________________________________________________________\n",
            "g_conv_1 (Conv2D)            (None, 32, 32, 16)        6416      \n",
            "_________________________________________________________________\n",
            "g_conv_2 (Conv2D)            (None, 16, 16, 16)        4112      \n",
            "_________________________________________________________________\n",
            "g_conv_3 (Conv2D)            (None, 8, 8, 16)          2320      \n",
            "_________________________________________________________________\n",
            "conv2d_1 (Conv2D)            (None, 4, 4, 16)          1040      \n",
            "_________________________________________________________________\n",
            "encoder (Conv2D)             (None, 2, 2, 16)          272       \n",
            "_________________________________________________________________\n",
            "conv2d_transpose_1 (Conv2DTr (None, 4, 4, 16)          1040      \n",
            "_________________________________________________________________\n",
            "g_deconv_0 (Conv2DTranspose) (None, 8, 8, 16)          1040      \n",
            "_________________________________________________________________\n",
            "g_deconv_1 (Conv2DTranspose) (None, 16, 16, 16)        2320      \n",
            "_________________________________________________________________\n",
            "g_deconv_2 (Conv2DTranspose) (None, 32, 32, 16)        4112      \n",
            "_________________________________________________________________\n",
            "g_deconv_3 (Conv2DTranspose) (None, 64, 64, 16)        6416      \n",
            "_________________________________________________________________\n",
            "g_deconv_4 (Conv2DTranspose) (None, 64, 64, 3)         1731      \n",
            "=================================================================\n",
            "Total params: 32,563\n",
            "Trainable params: 32,563\n",
            "Non-trainable params: 0\n",
            "_________________________________________________________________\n"
          ],
          "name": "stdout"
        }
      ]
    },
    {
      "cell_type": "code",
      "metadata": {
        "colab": {
          "base_uri": "https://localhost:8080/"
        },
        "id": "an4cGsxq35VE",
        "outputId": "b57daa09-f88a-40b4-cef6-72982b484e46"
      },
      "source": [
        "train = autoencoder.fit(train_patches, train_patches,\n",
        "                        validation_data=(val_patches, val_patches),\n",
        "                        batch_size=batch_size,\n",
        "                        epochs=epochs,\n",
        "                        verbose=0,\n",
        "                        callbacks=[save_chkpt, stop_chkpt, lr_chkpt])\n",
        "print('Training done!')"
      ],
      "execution_count": null,
      "outputs": [
        {
          "output_type": "stream",
          "text": [
            "WARNING:tensorflow:From /tensorflow-1.15.2/python3.7/keras/backend/tensorflow_backend.py:422: The name tf.global_variables is deprecated. Please use tf.compat.v1.global_variables instead.\n",
            "\n",
            "\n",
            "Epoch 00001: val_loss improved from inf to 0.02510, saving model to OP/data_20170621_deg0_HHVV_Auto3D2_patch64_stride4_bsc5_ny3.h5\n",
            "\n",
            "Epoch 00002: val_loss improved from 0.02510 to 0.01929, saving model to OP/data_20170621_deg0_HHVV_Auto3D2_patch64_stride4_bsc5_ny3.h5\n",
            "\n",
            "Epoch 00003: val_loss improved from 0.01929 to 0.01607, saving model to OP/data_20170621_deg0_HHVV_Auto3D2_patch64_stride4_bsc5_ny3.h5\n",
            "\n",
            "Epoch 00004: val_loss improved from 0.01607 to 0.01490, saving model to OP/data_20170621_deg0_HHVV_Auto3D2_patch64_stride4_bsc5_ny3.h5\n",
            "\n",
            "Epoch 00005: val_loss improved from 0.01490 to 0.01415, saving model to OP/data_20170621_deg0_HHVV_Auto3D2_patch64_stride4_bsc5_ny3.h5\n",
            "\n",
            "Epoch 00006: val_loss improved from 0.01415 to 0.01371, saving model to OP/data_20170621_deg0_HHVV_Auto3D2_patch64_stride4_bsc5_ny3.h5\n",
            "\n",
            "Epoch 00007: val_loss improved from 0.01371 to 0.01347, saving model to OP/data_20170621_deg0_HHVV_Auto3D2_patch64_stride4_bsc5_ny3.h5\n",
            "\n",
            "Epoch 00008: val_loss improved from 0.01347 to 0.01321, saving model to OP/data_20170621_deg0_HHVV_Auto3D2_patch64_stride4_bsc5_ny3.h5\n",
            "\n",
            "Epoch 00009: val_loss improved from 0.01321 to 0.01305, saving model to OP/data_20170621_deg0_HHVV_Auto3D2_patch64_stride4_bsc5_ny3.h5\n",
            "\n",
            "Epoch 00010: val_loss improved from 0.01305 to 0.01301, saving model to OP/data_20170621_deg0_HHVV_Auto3D2_patch64_stride4_bsc5_ny3.h5\n",
            "\n",
            "Epoch 00011: val_loss improved from 0.01301 to 0.01297, saving model to OP/data_20170621_deg0_HHVV_Auto3D2_patch64_stride4_bsc5_ny3.h5\n",
            "\n",
            "Epoch 00012: val_loss improved from 0.01297 to 0.01275, saving model to OP/data_20170621_deg0_HHVV_Auto3D2_patch64_stride4_bsc5_ny3.h5\n",
            "\n",
            "Epoch 00013: val_loss improved from 0.01275 to 0.01272, saving model to OP/data_20170621_deg0_HHVV_Auto3D2_patch64_stride4_bsc5_ny3.h5\n",
            "\n",
            "Epoch 00014: val_loss improved from 0.01272 to 0.01252, saving model to OP/data_20170621_deg0_HHVV_Auto3D2_patch64_stride4_bsc5_ny3.h5\n",
            "\n",
            "Epoch 00015: val_loss improved from 0.01252 to 0.01234, saving model to OP/data_20170621_deg0_HHVV_Auto3D2_patch64_stride4_bsc5_ny3.h5\n",
            "\n",
            "Epoch 00016: val_loss improved from 0.01234 to 0.01224, saving model to OP/data_20170621_deg0_HHVV_Auto3D2_patch64_stride4_bsc5_ny3.h5\n",
            "\n",
            "Epoch 00017: val_loss improved from 0.01224 to 0.01204, saving model to OP/data_20170621_deg0_HHVV_Auto3D2_patch64_stride4_bsc5_ny3.h5\n",
            "\n",
            "Epoch 00018: val_loss improved from 0.01204 to 0.01193, saving model to OP/data_20170621_deg0_HHVV_Auto3D2_patch64_stride4_bsc5_ny3.h5\n",
            "\n",
            "Epoch 00019: val_loss did not improve from 0.01193\n",
            "\n",
            "Epoch 00020: val_loss improved from 0.01193 to 0.01178, saving model to OP/data_20170621_deg0_HHVV_Auto3D2_patch64_stride4_bsc5_ny3.h5\n",
            "\n",
            "Epoch 00021: val_loss did not improve from 0.01178\n",
            "\n",
            "Epoch 00022: val_loss improved from 0.01178 to 0.01175, saving model to OP/data_20170621_deg0_HHVV_Auto3D2_patch64_stride4_bsc5_ny3.h5\n",
            "\n",
            "Epoch 00023: val_loss did not improve from 0.01175\n",
            "\n",
            "Epoch 00024: val_loss improved from 0.01175 to 0.01173, saving model to OP/data_20170621_deg0_HHVV_Auto3D2_patch64_stride4_bsc5_ny3.h5\n",
            "\n",
            "Epoch 00025: val_loss improved from 0.01173 to 0.01170, saving model to OP/data_20170621_deg0_HHVV_Auto3D2_patch64_stride4_bsc5_ny3.h5\n",
            "\n",
            "Epoch 00026: val_loss improved from 0.01170 to 0.01161, saving model to OP/data_20170621_deg0_HHVV_Auto3D2_patch64_stride4_bsc5_ny3.h5\n",
            "\n",
            "Epoch 00027: val_loss improved from 0.01161 to 0.01161, saving model to OP/data_20170621_deg0_HHVV_Auto3D2_patch64_stride4_bsc5_ny3.h5\n",
            "\n",
            "Epoch 00028: val_loss improved from 0.01161 to 0.01161, saving model to OP/data_20170621_deg0_HHVV_Auto3D2_patch64_stride4_bsc5_ny3.h5\n",
            "\n",
            "Epoch 00029: val_loss improved from 0.01161 to 0.01160, saving model to OP/data_20170621_deg0_HHVV_Auto3D2_patch64_stride4_bsc5_ny3.h5\n",
            "\n",
            "Epoch 00030: val_loss did not improve from 0.01160\n",
            "\n",
            "Epoch 00031: val_loss improved from 0.01160 to 0.01160, saving model to OP/data_20170621_deg0_HHVV_Auto3D2_patch64_stride4_bsc5_ny3.h5\n",
            "\n",
            "Epoch 00032: val_loss improved from 0.01160 to 0.01160, saving model to OP/data_20170621_deg0_HHVV_Auto3D2_patch64_stride4_bsc5_ny3.h5\n",
            "\n",
            "Epoch 00033: val_loss improved from 0.01160 to 0.01160, saving model to OP/data_20170621_deg0_HHVV_Auto3D2_patch64_stride4_bsc5_ny3.h5\n",
            "\n",
            "Epoch 00034: val_loss improved from 0.01160 to 0.01160, saving model to OP/data_20170621_deg0_HHVV_Auto3D2_patch64_stride4_bsc5_ny3.h5\n",
            "\n",
            "Epoch 00035: val_loss improved from 0.01160 to 0.01160, saving model to OP/data_20170621_deg0_HHVV_Auto3D2_patch64_stride4_bsc5_ny3.h5\n",
            "\n",
            "Epoch 00036: val_loss improved from 0.01160 to 0.01160, saving model to OP/data_20170621_deg0_HHVV_Auto3D2_patch64_stride4_bsc5_ny3.h5\n",
            "\n",
            "Epoch 00037: val_loss improved from 0.01160 to 0.01160, saving model to OP/data_20170621_deg0_HHVV_Auto3D2_patch64_stride4_bsc5_ny3.h5\n",
            "\n",
            "Epoch 00038: val_loss improved from 0.01160 to 0.01160, saving model to OP/data_20170621_deg0_HHVV_Auto3D2_patch64_stride4_bsc5_ny3.h5\n",
            "\n",
            "Epoch 00039: val_loss improved from 0.01160 to 0.01160, saving model to OP/data_20170621_deg0_HHVV_Auto3D2_patch64_stride4_bsc5_ny3.h5\n",
            "\n",
            "Epoch 00040: val_loss improved from 0.01160 to 0.01160, saving model to OP/data_20170621_deg0_HHVV_Auto3D2_patch64_stride4_bsc5_ny3.h5\n",
            "\n",
            "Epoch 00041: val_loss improved from 0.01160 to 0.01160, saving model to OP/data_20170621_deg0_HHVV_Auto3D2_patch64_stride4_bsc5_ny3.h5\n",
            "\n",
            "Epoch 00042: val_loss did not improve from 0.01160\n",
            "\n",
            "Epoch 00043: val_loss improved from 0.01160 to 0.01160, saving model to OP/data_20170621_deg0_HHVV_Auto3D2_patch64_stride4_bsc5_ny3.h5\n",
            "\n",
            "Epoch 00044: val_loss improved from 0.01160 to 0.01160, saving model to OP/data_20170621_deg0_HHVV_Auto3D2_patch64_stride4_bsc5_ny3.h5\n",
            "\n",
            "Epoch 00045: val_loss did not improve from 0.01160\n",
            "\n",
            "Epoch 00046: val_loss improved from 0.01160 to 0.01160, saving model to OP/data_20170621_deg0_HHVV_Auto3D2_patch64_stride4_bsc5_ny3.h5\n",
            "\n",
            "Epoch 00047: val_loss improved from 0.01160 to 0.01160, saving model to OP/data_20170621_deg0_HHVV_Auto3D2_patch64_stride4_bsc5_ny3.h5\n",
            "\n",
            "Epoch 00048: val_loss improved from 0.01160 to 0.01160, saving model to OP/data_20170621_deg0_HHVV_Auto3D2_patch64_stride4_bsc5_ny3.h5\n",
            "\n",
            "Epoch 00049: val_loss improved from 0.01160 to 0.01160, saving model to OP/data_20170621_deg0_HHVV_Auto3D2_patch64_stride4_bsc5_ny3.h5\n",
            "\n",
            "Epoch 00050: val_loss improved from 0.01160 to 0.01160, saving model to OP/data_20170621_deg0_HHVV_Auto3D2_patch64_stride4_bsc5_ny3.h5\n",
            "\n",
            "Epoch 00051: val_loss did not improve from 0.01160\n",
            "\n",
            "Epoch 00052: val_loss did not improve from 0.01160\n",
            "\n",
            "Epoch 00053: val_loss did not improve from 0.01160\n",
            "\n",
            "Epoch 00054: val_loss did not improve from 0.01160\n",
            "\n",
            "Epoch 00055: val_loss did not improve from 0.01160\n",
            "\n",
            "Epoch 00056: val_loss did not improve from 0.01160\n",
            "\n",
            "Epoch 00057: val_loss did not improve from 0.01160\n",
            "\n",
            "Epoch 00058: val_loss did not improve from 0.01160\n",
            "\n",
            "Epoch 00059: val_loss did not improve from 0.01160\n",
            "\n",
            "Epoch 00060: val_loss did not improve from 0.01160\n",
            "Training done!\n"
          ],
          "name": "stdout"
        }
      ]
    },
    {
      "cell_type": "code",
      "metadata": {
        "colab": {
          "base_uri": "https://localhost:8080/",
          "height": 281
        },
        "id": "Izmq5CL3H4hx",
        "outputId": "ac6123fa-4a87-4b26-fafb-2e54309506b5"
      },
      "source": [
        "train_loss = train.history['loss']\n",
        "val_loss = train.history['val_loss']\n",
        "\n",
        "import matplotlib.pyplot as plt\n",
        "\n",
        "epochs = range(1, len(train_loss) + 1)\n",
        "\n",
        "plt.figure()\n",
        "\n",
        "plt.plot(epochs, train_loss, 'bo', label='Training loss')\n",
        "plt.plot(epochs, val_loss, 'r', label='Validation loss')\n",
        "plt.title('Training and validation loss')\n",
        "plt.legend()\n",
        "\n",
        "plt.show()"
      ],
      "execution_count": null,
      "outputs": [
        {
          "output_type": "display_data",
          "data": {
            "image/png": "[encoded data removed]",
            "text/plain": [
              "<Figure size 432x288 with 1 Axes>"
            ]
          },
          "metadata": {
            "tags": [],
            "needs_background": "light"
          }
        }
      ]
    },
    {
      "cell_type": "code",
      "metadata": {
        "id": "FTnXHcXz66Hn"
      },
      "source": [
        "from sklearn.metrics import roc_curve, roc_auc_score, confusion_matrix\n",
        "from tqdm import tqdm"
      ],
      "execution_count": null,
      "outputs": []
    },
    {
      "cell_type": "code",
      "metadata": {
        "id": "8nKYh0fP67iv"
      },
      "source": [
        "training = '/content/OP/data_20170621_deg0_HHVV_Auto3D2_patch64_stride4_bsc5_ny3'\n",
        "net_weights = training + '.h5'"
      ],
      "execution_count": null,
      "outputs": []
    },
    {
      "cell_type": "markdown",
      "metadata": {
        "id": "MJEs24PpJhGX"
      },
      "source": [
        "##Test"
      ]
    },
    {
      "cell_type": "code",
      "metadata": {
        "id": "CKraL20cyEZV",
        "colab": {
          "base_uri": "https://localhost:8080/",
          "height": 244
        },
        "outputId": "aa8200ed-b9a1-4929-dd62-3976a9a18dc3"
      },
      "source": [
        "train_path = in_path\n",
        "dataset = np.load(\"/content/data/20170621_deg0_HHVV.npy\").item()\n",
        "\n",
        "# preprocessing\n",
        "data = dataset['data']\n",
        "\n",
        "# patch extractor\n",
        "pe = PatchExtractor.PatchExtractor(patch_size, stride=patch_stride)\n",
        "\n",
        "# background bscans for training\n",
        "gt = np.asarray(dataset['ground_truth'])\n",
        "del dataset\n",
        "\n",
        "test_idx = np.arange(data.shape[0])\n",
        "# check whether the test dataset is the same of the training\n",
        "if in_path == train_path:\n",
        "    train_idx = np.where(gt == 0)[0][:n_bsc]\n",
        "    test_idx = np.delete(test_idx, train_idx)\n",
        "testset = data[test_idx]\n",
        "gt = gt[test_idx]\n",
        "del data\n",
        "testset = np.moveaxis(testset, np.argmin(testset.shape), -1)"
      ],
      "execution_count": null,
      "outputs": [
        {
          "output_type": "error",
          "ename": "NameError",
          "evalue": "ignored",
          "traceback": [
            "\u001b[0;31m---------------------------------------------------------------------------\u001b[0m",
            "\u001b[0;31mNameError\u001b[0m                                 Traceback (most recent call last)",
            "\u001b[0;32m<ipython-input-2-af2c0ab64e44>\u001b[0m in \u001b[0;36m<module>\u001b[0;34m()\u001b[0m\n\u001b[0;32m----> 1\u001b[0;31m \u001b[0mtrain_path\u001b[0m \u001b[0;34m=\u001b[0m \u001b[0min_path\u001b[0m\u001b[0;34m\u001b[0m\u001b[0;34m\u001b[0m\u001b[0m\n\u001b[0m\u001b[1;32m      2\u001b[0m \u001b[0mdataset\u001b[0m \u001b[0;34m=\u001b[0m \u001b[0mnp\u001b[0m\u001b[0;34m.\u001b[0m\u001b[0mload\u001b[0m\u001b[0;34m(\u001b[0m\u001b[0;34m\"/content/data/20170621_deg0_HHVV.npy\"\u001b[0m\u001b[0;34m)\u001b[0m\u001b[0;34m.\u001b[0m\u001b[0mitem\u001b[0m\u001b[0;34m(\u001b[0m\u001b[0;34m)\u001b[0m\u001b[0;34m\u001b[0m\u001b[0;34m\u001b[0m\u001b[0m\n\u001b[1;32m      3\u001b[0m \u001b[0;34m\u001b[0m\u001b[0m\n\u001b[1;32m      4\u001b[0m \u001b[0;31m# preprocessing\u001b[0m\u001b[0;34m\u001b[0m\u001b[0;34m\u001b[0m\u001b[0;34m\u001b[0m\u001b[0m\n\u001b[1;32m      5\u001b[0m \u001b[0mdata\u001b[0m \u001b[0;34m=\u001b[0m \u001b[0mdataset\u001b[0m\u001b[0;34m[\u001b[0m\u001b[0;34m'data'\u001b[0m\u001b[0;34m]\u001b[0m\u001b[0;34m\u001b[0m\u001b[0;34m\u001b[0m\u001b[0m\n",
            "\u001b[0;31mNameError\u001b[0m: name 'in_path' is not defined"
          ]
        }
      ]
    },
    {
      "cell_type": "code",
      "metadata": {
        "id": "rLSDWCKLyEZW"
      },
      "source": [
        "autoencoder, encoder = parse_net(architecture)(patch_size)\n",
        "autoencoder.load_weights(os.path.join(net_weights))\n",
        "\n",
        "out_name = field+'_'+campaign+'_'+architecture+'_patch'+str(patch_size[0])+'_stride'+str(patch_stride[0])+'_bsc'+str(n_bsc)+'_ny'+str(ny)"
      ],
      "execution_count": null,
      "outputs": []
    },
    {
      "cell_type": "code",
      "metadata": {
        "id": "305cSitQyEZW"
      },
      "source": [
        "patches = pe.extract(testset)\n",
        "patchesIdx = patches.shape\n",
        "patches_hat = autoencoder.predict(patches.reshape((-1,) + patch_size))\n",
        "mseFeat = (encoder.predict(patches.reshape((-1,) + patch_size)) - encoder.predict(patches_hat))**2\n",
        "mseFeat_patches = np.zeros(patches_hat.shape) + np.mean(mseFeat, axis=(1,2,3)).reshape((-1,1,1,1))\n",
        "del patches\n",
        "del patches_hat\n",
        "del mseFeat\n",
        "mseFeat_vol = pe.reconstruct(mseFeat_patches.reshape(patchesIdx))\n",
        "del mseFeat_patches"
      ],
      "execution_count": null,
      "outputs": []
    },
    {
      "cell_type": "code",
      "metadata": {
        "id": "F_lWi0vwyEZX"
      },
      "source": [
        "mse_mask_max = np.max(mseFeat_vol, axis=(0, 1))\n",
        "fpr_max, tpr_max, thresholds_max = roc_curve(gt, mse_mask_max)\n",
        "roc_auc_max = roc_auc_score(gt, mse_mask_max)\n",
        "print('best AUC = %0.2f' % roc_auc_max)"
      ],
      "execution_count": null,
      "outputs": []
    },
    {
      "cell_type": "code",
      "metadata": {
        "id": "-1K67nemo6n2"
      },
      "source": [
        "cm = confusion_matrix(gt, mse_mask_max)"
      ],
      "execution_count": null,
      "outputs": []
    },
    {
      "cell_type": "code",
      "metadata": {
        "id": "DzPEqTKOpRPQ"
      },
      "source": [
        "import pandas as pd\n",
        "conf = pd.read_csv('model_output.csv')"
      ],
      "execution_count": null,
      "outputs": []
    },
    {
      "cell_type": "code",
      "metadata": {
        "id": "hYUUhV7fLzjG"
      },
      "source": [
        "from sklearn.metrics import roc_curve, roc_auc_score, confusion_matrix"
      ],
      "execution_count": null,
      "outputs": []
    },
    {
      "cell_type": "code",
      "metadata": {
        "id": "GVwtfhSeL3u4",
        "colab": {
          "base_uri": "https://localhost:8080/",
          "height": 282
        },
        "outputId": "ae9b1f74-198c-4ced-8817-e188463ba8d5"
      },
      "source": [
        "import seaborn as sns\n",
        "sns.heatmap(conf,annot=True,cmap='Blues')"
      ],
      "execution_count": null,
      "outputs": [
        {
          "output_type": "execute_result",
          "data": {
            "text/plain": [
              "<matplotlib.axes._subplots.AxesSubplot at 0x7fd0adfdf490>"
            ]
          },
          "metadata": {
            "tags": []
          },
          "execution_count": 24
        },
        {
          "output_type": "display_data",
          "data": {
            "image/png": "[encoded data removed]",
            "text/plain": [
              "<Figure size 432x288 with 2 Axes>"
            ]
          },
          "metadata": {
            "tags": [],
            "needs_background": "light"
          }
        }
      ]
    },
    {
      "cell_type": "code",
      "metadata": {
        "id": "BBwi3hauPsSx",
        "colab": {
          "base_uri": "https://localhost:8080/",
          "height": 108
        },
        "outputId": "edaec869-fc63-435e-fb02-8c954923567f"
      },
      "source": [
        "conf"
      ],
      "execution_count": null,
      "outputs": [
        {
          "output_type": "execute_result",
          "data": {
            "text/html": [
              "<div>\n",
              "<style scoped>\n",
              "    .dataframe tbody tr th:only-of-type {\n",
              "        vertical-align: middle;\n",
              "    }\n",
              "\n",
              "    .dataframe tbody tr th {\n",
              "        vertical-align: top;\n",
              "    }\n",
              "\n",
              "    .dataframe thead th {\n",
              "        text-align: right;\n",
              "    }\n",
              "</style>\n",
              "<table border=\"1\" class=\"dataframe\">\n",
              "  <thead>\n",
              "    <tr style=\"text-align: right;\">\n",
              "      <th></th>\n",
              "      <th>Predicted 0</th>\n",
              "      <th>Predicted 1</th>\n",
              "    </tr>\n",
              "  </thead>\n",
              "  <tbody>\n",
              "    <tr>\n",
              "      <th>0</th>\n",
              "      <td>749</td>\n",
              "      <td>51</td>\n",
              "    </tr>\n",
              "    <tr>\n",
              "      <th>1</th>\n",
              "      <td>38</td>\n",
              "      <td>762</td>\n",
              "    </tr>\n",
              "  </tbody>\n",
              "</table>\n",
              "</div>"
            ],
            "text/plain": [
              "   Predicted 0  Predicted 1\n",
              "0          749           51\n",
              "1           38          762"
            ]
          },
          "metadata": {
            "tags": []
          },
          "execution_count": 25
        }
      ]
    },
    {
      "cell_type": "code",
      "metadata": {
        "id": "PUAIJ2k0P5Ib"
      },
      "source": [
        "TP = conf.iloc[0,0]\n",
        "FP = conf.iloc[0,1]\n",
        "TN = conf.iloc[1,1]\n",
        "FN = conf.iloc[1,0]"
      ],
      "execution_count": null,
      "outputs": []
    },
    {
      "cell_type": "code",
      "metadata": {
        "id": "XWNyawtnQwnu"
      },
      "source": [
        "Accuracy = (TP+TN)/(TP+FP+FN+TN)\n",
        "Precision = TP/(TP+FP)\n",
        "Sensitivity = TP/(TP+FN)\n",
        "F1_Score = 2*(Sensitivity * Precision) / (Sensitivity + Precision)\n",
        "Specificity = TN/(TN+FP)"
      ],
      "execution_count": null,
      "outputs": []
    },
    {
      "cell_type": "code",
      "metadata": {
        "id": "ciRMEeoVRitu",
        "colab": {
          "base_uri": "https://localhost:8080/"
        },
        "outputId": "2f00d6f2-ed0f-43ab-a065-8ebdc9b8081b"
      },
      "source": [
        "print(\"Accuracy = \", Accuracy)\n",
        "print(\"Precision = \", Precision)\n",
        "print(\"Sensitivity = \", Sensitivity)\n",
        "print(\"F1_Score = \", F1_Score)\n",
        "print(\"Specificity = \",Specificity)"
      ],
      "execution_count": null,
      "outputs": [
        {
          "output_type": "stream",
          "text": [
            "Accuracy =  0.944375\n",
            "Precision =  0.93625\n",
            "Sensitivity =  0.951715374841169\n",
            "F1_Score =  0.9439193446754883\n",
            "Specificity =  0.9372693726937269\n"
          ],
          "name": "stdout"
        }
      ]
    }
  ]
}